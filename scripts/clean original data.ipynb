{
 "cells": [
  {
   "cell_type": "code",
   "execution_count": 1,
   "metadata": {},
   "outputs": [],
   "source": [
    "import numpy as np\n",
    "import pandas as pd\n",
    "import re"
   ]
  },
  {
   "cell_type": "code",
   "execution_count": 2,
   "metadata": {},
   "outputs": [],
   "source": [
    "#Read csv files\n",
    "tweet_input = pd.read_csv('C:/Users/saath/Documents/DAEN 690/datasets/train1.csv')\n",
    "comment_input = pd.read_csv('C:/Users/saath/Documents/DAEN 690/datasets/train2.csv')"
   ]
  },
  {
   "cell_type": "code",
   "execution_count": 3,
   "metadata": {},
   "outputs": [],
   "source": [
    "#Drop unnecessary columns\n",
    "tweet_input_final = tweet_input.drop(['Unnamed: 0', 'count', 'hate_speech', 'offensive_language', 'neither'],axis=1)\n",
    "comment_input_final = comment_input.drop(['id', 'toxic', 'severe_toxic', 'threat','insult', 'identity_hate'],axis=1)\n",
    "\n",
    "# Reordering the columns in the tweet_input\n",
    "tweet_input_final = tweet_input_final.reindex(['tweet','class'], axis=1)\n",
    "\n",
    "#Renaming the columns into a common name\n",
    "comment_input_final.rename(columns={'comment_text': 'text_data', 'obscene': 'profane_class'}, inplace=True)\n",
    "tweet_input_final.rename(columns={'tweet': 'text_data', 'class': 'profane_class'}, inplace=True)\n",
    "\n",
    "#Considering only the profane and non profane classes\n",
    "tweet_input_final = tweet_input_final[tweet_input_final.profane_class != 0]\n",
    "tweet_input_final['profane_class'] = tweet_input_final['profane_class'].replace([2],0)\n",
    "# tweet_input_final.head(10)"
   ]
  },
  {
   "cell_type": "code",
   "execution_count": 9,
   "metadata": {},
   "outputs": [],
   "source": [
    "comment_input_final_profane = comment_input_final[comment_input_final.profane_class == 1]\n",
    "comment_input_final_non_profane = comment_input_final[comment_input_final.profane_class == 0].head(24000)"
   ]
  },
  {
   "cell_type": "code",
   "execution_count": 10,
   "metadata": {},
   "outputs": [],
   "source": [
    "frames = [tweet_input_final, comment_input_final_profane, comment_input_final_non_profane]\n",
    "final_dataset = pd.concat(frames, axis=0)"
   ]
  },
  {
   "cell_type": "code",
   "execution_count": 13,
   "metadata": {},
   "outputs": [
    {
     "data": {
      "text/html": [
       "<div>\n",
       "<style scoped>\n",
       "    .dataframe tbody tr th:only-of-type {\n",
       "        vertical-align: middle;\n",
       "    }\n",
       "\n",
       "    .dataframe tbody tr th {\n",
       "        vertical-align: top;\n",
       "    }\n",
       "\n",
       "    .dataframe thead th {\n",
       "        text-align: right;\n",
       "    }\n",
       "</style>\n",
       "<table border=\"1\" class=\"dataframe\">\n",
       "  <thead>\n",
       "    <tr style=\"text-align: right;\">\n",
       "      <th></th>\n",
       "      <th>text_data</th>\n",
       "      <th>profane_class</th>\n",
       "    </tr>\n",
       "  </thead>\n",
       "  <tbody>\n",
       "    <tr>\n",
       "      <th>0</th>\n",
       "      <td>!!! RT @mayasolovely: As a woman you shouldn't...</td>\n",
       "      <td>0</td>\n",
       "    </tr>\n",
       "    <tr>\n",
       "      <th>1</th>\n",
       "      <td>!!!!! RT @mleew17: boy dats cold...tyga dwn ba...</td>\n",
       "      <td>1</td>\n",
       "    </tr>\n",
       "    <tr>\n",
       "      <th>2</th>\n",
       "      <td>!!!!!!! RT @UrKindOfBrand Dawg!!!! RT @80sbaby...</td>\n",
       "      <td>1</td>\n",
       "    </tr>\n",
       "    <tr>\n",
       "      <th>3</th>\n",
       "      <td>!!!!!!!!! RT @C_G_Anderson: @viva_based she lo...</td>\n",
       "      <td>1</td>\n",
       "    </tr>\n",
       "    <tr>\n",
       "      <th>4</th>\n",
       "      <td>!!!!!!!!!!!!! RT @ShenikaRoberts: The shit you...</td>\n",
       "      <td>1</td>\n",
       "    </tr>\n",
       "    <tr>\n",
       "      <th>...</th>\n",
       "      <td>...</td>\n",
       "      <td>...</td>\n",
       "    </tr>\n",
       "    <tr>\n",
       "      <th>25333</th>\n",
       "      <td>The two pictures of the Dutch athletes are the...</td>\n",
       "      <td>0</td>\n",
       "    </tr>\n",
       "    <tr>\n",
       "      <th>25334</th>\n",
       "      <td>, and get used to working with people of diffe...</td>\n",
       "      <td>0</td>\n",
       "    </tr>\n",
       "    <tr>\n",
       "      <th>25335</th>\n",
       "      <td>\"\\n\\n Blocked \\n\\n — xplicit \"</td>\n",
       "      <td>0</td>\n",
       "    </tr>\n",
       "    <tr>\n",
       "      <th>25336</th>\n",
       "      <td>thank you for the help, submission made, feel ...</td>\n",
       "      <td>0</td>\n",
       "    </tr>\n",
       "    <tr>\n",
       "      <th>25337</th>\n",
       "      <td>Small note to FutPerf and the rest of the admi...</td>\n",
       "      <td>0</td>\n",
       "    </tr>\n",
       "  </tbody>\n",
       "</table>\n",
       "<p>55802 rows × 2 columns</p>\n",
       "</div>"
      ],
      "text/plain": [
       "                                               text_data  profane_class\n",
       "0      !!! RT @mayasolovely: As a woman you shouldn't...              0\n",
       "1      !!!!! RT @mleew17: boy dats cold...tyga dwn ba...              1\n",
       "2      !!!!!!! RT @UrKindOfBrand Dawg!!!! RT @80sbaby...              1\n",
       "3      !!!!!!!!! RT @C_G_Anderson: @viva_based she lo...              1\n",
       "4      !!!!!!!!!!!!! RT @ShenikaRoberts: The shit you...              1\n",
       "...                                                  ...            ...\n",
       "25333  The two pictures of the Dutch athletes are the...              0\n",
       "25334  , and get used to working with people of diffe...              0\n",
       "25335                     \"\\n\\n Blocked \\n\\n — xplicit \"              0\n",
       "25336  thank you for the help, submission made, feel ...              0\n",
       "25337  Small note to FutPerf and the rest of the admi...              0\n",
       "\n",
       "[55802 rows x 2 columns]"
      ]
     },
     "execution_count": 13,
     "metadata": {},
     "output_type": "execute_result"
    }
   ],
   "source": [
    "final_dataset"
   ]
  },
  {
   "cell_type": "code",
   "execution_count": 14,
   "metadata": {},
   "outputs": [],
   "source": [
    "final_dataset['text_data'] = final_dataset.text_data.str.replace(r'[^a-zA-Z\\s]+@\\w+:|@\\w+|&\\w+|[^a-zA-Z\\s]+|RT|http.+?', '')\n",
    "final_dataset['text_data'] = final_dataset.text_data.str.replace(r'\\n',' ')"
   ]
  },
  {
   "cell_type": "code",
   "execution_count": 23,
   "metadata": {},
   "outputs": [],
   "source": [
    "final_dataset = final_dataset.sample(frac=1).reset_index(drop=True)"
   ]
  },
  {
   "cell_type": "code",
   "execution_count": 25,
   "metadata": {},
   "outputs": [
    {
     "name": "stdout",
     "output_type": "stream",
     "text": [
      "DataFrame is written successfully to Excel File.\n"
     ]
    }
   ],
   "source": [
    "writer = pd.ExcelWriter('C:/Users/saath/Documents/DAEN 690/datasets/combined_original_clean_data.xlsx')\n",
    "# write dataframe to excel\n",
    "final_dataset.to_excel(writer)\n",
    "# save the excel\n",
    "writer.save()\n",
    "print('DataFrame is written successfully to Excel File.')"
   ]
  },
  {
   "cell_type": "code",
   "execution_count": null,
   "metadata": {},
   "outputs": [],
   "source": []
  }
 ],
 "metadata": {
  "kernelspec": {
   "display_name": "Python 3",
   "language": "python",
   "name": "python3"
  },
  "language_info": {
   "codemirror_mode": {
    "name": "ipython",
    "version": 3
   },
   "file_extension": ".py",
   "mimetype": "text/x-python",
   "name": "python",
   "nbconvert_exporter": "python",
   "pygments_lexer": "ipython3",
   "version": "3.8.5"
  }
 },
 "nbformat": 4,
 "nbformat_minor": 4
}
