{
 "cells": [
  {
   "cell_type": "code",
   "execution_count": null,
   "metadata": {
    "id": "chahHcKo_Aty"
   },
   "outputs": [],
   "source": [
    "import pandas as pd\n",
    "import numpy as np\n",
    "import os\n",
    "from gensim import corpora,models,similarities\n",
    "from sklearn.model_selection import train_test_split"
   ]
  },
  {
   "cell_type": "code",
   "execution_count": null,
   "metadata": {
    "id": "bGNJX15Z_At2"
   },
   "outputs": [],
   "source": [
    "#os.getcwd()"
   ]
  },
  {
   "cell_type": "code",
   "execution_count": null,
   "metadata": {
    "id": "WmQTQ-1x_At3"
   },
   "outputs": [],
   "source": [
    "dataF = pd.read_excel(\"original+bt_data.xlsx\",names=['Text_id', 'text_data','profane_class'])"
   ]
  },
  {
   "cell_type": "code",
   "execution_count": null,
   "metadata": {
    "colab": {
     "base_uri": "https://localhost:8080/",
     "height": 357
    },
    "id": "ccGRvj8a_At3",
    "outputId": "2a7e6f7c-d503-402a-c953-35fd16bd7bae"
   },
   "outputs": [
    {
     "data": {
      "text/html": [
       "<div>\n",
       "<style scoped>\n",
       "    .dataframe tbody tr th:only-of-type {\n",
       "        vertical-align: middle;\n",
       "    }\n",
       "\n",
       "    .dataframe tbody tr th {\n",
       "        vertical-align: top;\n",
       "    }\n",
       "\n",
       "    .dataframe thead th {\n",
       "        text-align: right;\n",
       "    }\n",
       "</style>\n",
       "<table border=\"1\" class=\"dataframe\">\n",
       "  <thead>\n",
       "    <tr style=\"text-align: right;\">\n",
       "      <th></th>\n",
       "      <th>Text_id</th>\n",
       "      <th>text_data</th>\n",
       "      <th>profane_class</th>\n",
       "    </tr>\n",
       "  </thead>\n",
       "  <tbody>\n",
       "    <tr>\n",
       "      <th>0</th>\n",
       "      <td>0</td>\n",
       "      <td>lmaoooo   Lol OK pal   what bitch gone tell me...</td>\n",
       "      <td>1</td>\n",
       "    </tr>\n",
       "    <tr>\n",
       "      <th>1</th>\n",
       "      <td>1</td>\n",
       "      <td>These whores are loyal.</td>\n",
       "      <td>1</td>\n",
       "    </tr>\n",
       "    <tr>\n",
       "      <th>2</th>\n",
       "      <td>2</td>\n",
       "      <td>I came here to ask the same question Their use...</td>\n",
       "      <td>0</td>\n",
       "    </tr>\n",
       "    <tr>\n",
       "      <th>3</th>\n",
       "      <td>3</td>\n",
       "      <td>REDIRECT TalkChallenge Chateau Cartier de Gati...</td>\n",
       "      <td>0</td>\n",
       "    </tr>\n",
       "    <tr>\n",
       "      <th>4</th>\n",
       "      <td>4</td>\n",
       "      <td>Template English Scottish and British monarchs...</td>\n",
       "      <td>0</td>\n",
       "    </tr>\n",
       "    <tr>\n",
       "      <th>5</th>\n",
       "      <td>5</td>\n",
       "      <td>I can't even tell a bitch hey without thinking...</td>\n",
       "      <td>1</td>\n",
       "    </tr>\n",
       "    <tr>\n",
       "      <th>6</th>\n",
       "      <td>6</td>\n",
       "      <td>Sep   Archive Archive  Sep</td>\n",
       "      <td>0</td>\n",
       "    </tr>\n",
       "    <tr>\n",
       "      <th>7</th>\n",
       "      <td>7</td>\n",
       "      <td>Notability of Michael Fout  A tag has been pla...</td>\n",
       "      <td>0</td>\n",
       "    </tr>\n",
       "    <tr>\n",
       "      <th>8</th>\n",
       "      <td>8</td>\n",
       "      <td>The meanest bitch didn't win Queen Fuck the Me...</td>\n",
       "      <td>1</td>\n",
       "    </tr>\n",
       "    <tr>\n",
       "      <th>9</th>\n",
       "      <td>9</td>\n",
       "      <td>You're not right for this job. Why good your r...</td>\n",
       "      <td>1</td>\n",
       "    </tr>\n",
       "  </tbody>\n",
       "</table>\n",
       "</div>"
      ],
      "text/plain": [
       "   Text_id                                          text_data  profane_class\n",
       "0        0  lmaoooo   Lol OK pal   what bitch gone tell me...              1\n",
       "1        1                            These whores are loyal.              1\n",
       "2        2  I came here to ask the same question Their use...              0\n",
       "3        3  REDIRECT TalkChallenge Chateau Cartier de Gati...              0\n",
       "4        4  Template English Scottish and British monarchs...              0\n",
       "5        5  I can't even tell a bitch hey without thinking...              1\n",
       "6        6                         Sep   Archive Archive  Sep              0\n",
       "7        7  Notability of Michael Fout  A tag has been pla...              0\n",
       "8        8  The meanest bitch didn't win Queen Fuck the Me...              1\n",
       "9        9  You're not right for this job. Why good your r...              1"
      ]
     },
     "execution_count": 11,
     "metadata": {},
     "output_type": "execute_result"
    }
   ],
   "source": [
    "dataF.head(10)"
   ]
  },
  {
   "cell_type": "code",
   "execution_count": null,
   "metadata": {
    "colab": {
     "base_uri": "https://localhost:8080/"
    },
    "id": "hjONQSVD_At4",
    "outputId": "2ca3995d-88f1-49b1-92a8-53567a98c8dc"
   },
   "outputs": [
    {
     "name": "stdout",
     "output_type": "stream",
     "text": [
      "Columns in the original dataset:\n",
      "\n",
      "Index(['Text_id', 'text_data', 'profane_class'], dtype='object')\n"
     ]
    }
   ],
   "source": [
    "print(\"Columns in the original dataset:\\n\")\n",
    "print(dataF.columns)\n"
   ]
  },
  {
   "cell_type": "code",
   "execution_count": null,
   "metadata": {
    "colab": {
     "base_uri": "https://localhost:8080/",
     "height": 359
    },
    "id": "rFKNkIdL_At4",
    "outputId": "fc8869ae-2167-475c-d8eb-0720cbabca59"
   },
   "outputs": [
    {
     "name": "stdout",
     "output_type": "stream",
     "text": [
      "Number of rows per star rating:\n",
      "0    46863\n",
      "1    46829\n",
      "Name: profane_class, dtype: int64\n"
     ]
    },
    {
     "data": {
      "image/png": "[encoded data removed]",
      "text/plain": [
       "<Figure size 432x288 with 1 Axes>"
      ]
     },
     "metadata": {
      "needs_background": "light"
     },
     "output_type": "display_data"
    }
   ],
   "source": [
    "import matplotlib.pyplot as plt \n",
    "\n",
    "print(\"Number of rows per star rating:\")\n",
    "print(dataF['profane_class'].value_counts())\n",
    "\n",
    "# Function to map stars to sentiment\n",
    "def map_sentiment(profane_class):\n",
    "    if profane_class == 1:\n",
    "        return 1\n",
    "    elif profane_class == 0:\n",
    "        return 0\n",
    "    else:\n",
    "        return -1\n",
    "# Mapping stars to sentiment into three categories\n",
    "dataF['sentiment'] = [ map_sentiment(x) for x in dataF['profane_class']]\n",
    "# Plotting the sentiment distribution\n",
    "plt.figure()\n",
    "pd.value_counts(dataF['sentiment']).plot.bar(title=\"Sentiment distribution in dF\")\n",
    "plt.xlabel(\"Sentiment\")\n",
    "plt.ylabel(\"No. of rows in dF\")\n",
    "plt.show()\n"
   ]
  },
  {
   "cell_type": "code",
   "execution_count": null,
   "metadata": {
    "colab": {
     "base_uri": "https://localhost:8080/"
    },
    "id": "ENgIewx5_At5",
    "outputId": "4f9d69fc-d27e-42b7-af3d-c0e078ce3c09"
   },
   "outputs": [
    {
     "name": "stdout",
     "output_type": "stream",
     "text": [
      "They good service!!\n"
     ]
    }
   ],
   "source": [
    "# Removing the stop words\n",
    "from gensim.parsing.preprocessing import remove_stopwords\n",
    "print(remove_stopwords(\"They had a good service!!\"))\n"
   ]
  },
  {
   "cell_type": "code",
   "execution_count": null,
   "metadata": {
    "colab": {
     "base_uri": "https://localhost:8080/"
    },
    "id": "5LdwyzVe_At5",
    "outputId": "d373274d-c46d-4224-dcbe-a2aff446248e"
   },
   "outputs": [
    {
     "name": "stdout",
     "output_type": "stream",
     "text": [
      "0    [lmaoooo, lol, ok, pal, what, bitch, gone, tel...\n",
      "1                          [these, whores, are, loyal]\n",
      "2    [came, here, to, ask, the, same, question, the...\n",
      "3    [redirect, talkchallenge, chateau, cartier, de...\n",
      "4    [template, english, scottish, and, british, mo...\n",
      "5    [can, even, tell, bitch, hey, without, thinkin...\n",
      "6                         [sep, archive, archive, sep]\n",
      "7    [notability, of, michael, fout, tag, has, been...\n",
      "8    [the, meanest, bitch, didn, win, queen, fuck, ...\n",
      "9    [you, re, not, right, for, this, job, why, goo...\n",
      "Name: tokenized_text, dtype: object\n"
     ]
    }
   ],
   "source": [
    "from gensim.utils import simple_preprocess\n",
    "# Tokenize the text column to get the new column 'tokenized_text'\n",
    "dataF['tokenized_text'] = [simple_preprocess(line, deacc=True) for line in dataF['text_data']] \n",
    "print(dataF['tokenized_text'].head(10))\n"
   ]
  },
  {
   "cell_type": "code",
   "execution_count": null,
   "metadata": {
    "colab": {
     "base_uri": "https://localhost:8080/"
    },
    "id": "mkUwMTQB_At6",
    "outputId": "ca30de83-1a23-4c12-9c81-66ecab48fa06"
   },
   "outputs": [
    {
     "data": {
      "text/plain": [
       "0    [lmaoooo, lol, ok, pal, what, bitch, gone, tel...\n",
       "1                            [these, whore, ar, loyal]\n",
       "2    [came, here, to, ask, the, same, question, the...\n",
       "3    [redirect, talkchalleng, chateau, cartier, de,...\n",
       "4    [templat, english, scottish, and, british, mon...\n",
       "5    [can, even, tell, bitch, hei, without, think, ...\n",
       "6                           [sep, archiv, archiv, sep]\n",
       "7    [notabl, of, michael, fout, tag, ha, been, pla...\n",
       "8    [the, meanest, bitch, didn, win, queen, fuck, ...\n",
       "9    [you, re, not, right, for, thi, job, why, good...\n",
       "Name: stemmed_tokens, dtype: object"
      ]
     },
     "execution_count": 17,
     "metadata": {},
     "output_type": "execute_result"
    }
   ],
   "source": [
    "from gensim.parsing.porter import PorterStemmer\n",
    "porter_stemmer = PorterStemmer()\n",
    "# Get the stemmed_tokens\n",
    "dataF['stemmed_tokens'] = [[porter_stemmer.stem(word) for word in tokens] for tokens in dataF['tokenized_text'] ]\n",
    "dataF['stemmed_tokens'].head(10)\n"
   ]
  },
  {
   "cell_type": "code",
   "execution_count": null,
   "metadata": {
    "colab": {
     "base_uri": "https://localhost:8080/"
    },
    "id": "hML7FuX4_At7",
    "outputId": "417790cc-b889-4a90-df95-a696362cd93c"
   },
   "outputs": [
    {
     "name": "stdout",
     "output_type": "stream",
     "text": [
      "Value counts for Train sentiments\n",
      "0    32828\n",
      "1    32756\n",
      "Name: sentiment, dtype: int64\n",
      "Value counts for Test sentiments\n",
      "1    14073\n",
      "0    14035\n",
      "Name: sentiment, dtype: int64\n",
      "<class 'pandas.core.frame.DataFrame'>\n",
      "<class 'pandas.core.series.Series'>\n",
      "   index  ...                                     stemmed_tokens\n",
      "0  63212  ...  [hello, keep, get, messag, from, anoth, user, ...\n",
      "1  26934  ...  [the, power, of, christ, forc, you, to, blow, ...\n",
      "2  76573  ...  [as, in, natur, biologi, dog, dont, eat, each,...\n",
      "3   1674  ...  [hello, go, back, to, your, own, countri, you,...\n",
      "4  45924  ...                            [we, aint, friend, hoe]\n",
      "\n",
      "[5 rows x 5 columns]\n"
     ]
    }
   ],
   "source": [
    "from sklearn.model_selection import train_test_split\n",
    "# Train Test Split Function\n",
    "def split_train_test(dataF, test_size=0.3, shuffle_state=True):\n",
    "    X_train, X_test, Y_train, Y_test = train_test_split(dataF[['Text_id','text_data','profane_class','stemmed_tokens']], \n",
    "                                                        dataF['sentiment'], \n",
    "                                                        shuffle=shuffle_state,\n",
    "                                                        test_size=test_size, \n",
    "                                                        random_state=15)\n",
    "    print(\"Value counts for Train sentiments\")\n",
    "    print(Y_train.value_counts())\n",
    "    print(\"Value counts for Test sentiments\")\n",
    "    print(Y_test.value_counts())\n",
    "    print(type(X_train))\n",
    "    print(type(Y_train))\n",
    "    X_train = X_train.reset_index()\n",
    "    X_test = X_test.reset_index()\n",
    "    Y_train = Y_train.to_frame()\n",
    "    Y_train = Y_train.reset_index()\n",
    "    Y_test = Y_test.to_frame()\n",
    "    Y_test = Y_test.reset_index()\n",
    "    print(X_train.head())\n",
    "    return X_train, X_test, Y_train, Y_test\n",
    "\n",
    "# Call the train_test_split\n",
    "X_train, X_test, Y_train, Y_test = split_train_test(dataF)\n"
   ]
  },
  {
   "cell_type": "code",
   "execution_count": null,
   "metadata": {
    "id": "uqNB3Bmv_At8"
   },
   "outputs": [],
   "source": [
    "import torch.nn as nn\n",
    "import torch.nn.functional as FF\n",
    "import torch.optim as optim\n"
   ]
  },
  {
   "cell_type": "code",
   "execution_count": null,
   "metadata": {
    "colab": {
     "base_uri": "https://localhost:8080/"
    },
    "id": "Uiub8Dmr_At8",
    "outputId": "579af69d-f44d-4d57-d787-1d9ecacd0e00"
   },
   "outputs": [
    {
     "name": "stdout",
     "output_type": "stream",
     "text": [
      "Device available for running: \n",
      "cpu\n"
     ]
    }
   ],
   "source": [
    "import torch\n",
    "# Use cuda if present\n",
    "device = torch.device(\"cuda\" if torch.cuda.is_available() else \"cpu\")\n",
    "print(\"Device available for running: \")\n",
    "print(device)\n"
   ]
  },
  {
   "cell_type": "code",
   "execution_count": null,
   "metadata": {
    "id": "2F4f-5dF_At8"
   },
   "outputs": [],
   "source": [
    "class FeedforwardNeuralNetModel(nn.Module):\n",
    "    def __init__(self, input_dim, hidden_dim, output_dim):\n",
    "        super(FeedforwardNeuralNetModel, self).__init__()\n",
    "        \n",
    "        # Linear function 1: vocab_size --> 500\n",
    "        self.fc1 = nn.Linear(input_dim, hidden_dim) \n",
    "        # Non-linearity 1\n",
    "        self.relu1 = nn.ReLU()\n",
    "\n",
    "        # Linear function 2: 500 --> 500\n",
    "        self.fc2 = nn.Linear(hidden_dim, hidden_dim)\n",
    "        # Non-linearity 2\n",
    "        self.relu2 = nn.ReLU()\n",
    "\n",
    "        # Linear function 3 (readout): 500 --> 3\n",
    "        self.fc3 = nn.Linear(hidden_dim, output_dim)  \n",
    "\n",
    "    def forward(self, x):\n",
    "        # Linear function 1\n",
    "        out = self.fc1(x)\n",
    "        # Non-linearity 1\n",
    "        out = self.relu1(out)\n",
    "\n",
    "        # Linear function 2\n",
    "        out = self.fc2(out)\n",
    "        # Non-linearity 2\n",
    "        out = self.relu2(out)\n",
    "\n",
    "        # Linear function 3 (readout)\n",
    "        out = self.fc3(out)\n",
    "\n",
    "        return FF.softmax(out, dim=1)\n"
   ]
  },
  {
   "cell_type": "code",
   "execution_count": null,
   "metadata": {
    "colab": {
     "base_uri": "https://localhost:8080/"
    },
    "id": "PrO8mr9S_At9",
    "outputId": "a2985bc2-7556-4665-89f9-5ff8ada55698"
   },
   "outputs": [
    {
     "name": "stdout",
     "output_type": "stream",
     "text": [
      "Dictionary without padding\n",
      "       Text_id  ...                                     stemmed_tokens\n",
      "0            0  ...  [lmaoooo, lol, ok, pal, what, bitch, gone, tel...\n",
      "1            1  ...                          [these, whore, ar, loyal]\n",
      "2            2  ...  [came, here, to, ask, the, same, question, the...\n",
      "3            3  ...  [redirect, talkchalleng, chateau, cartier, de,...\n",
      "4            4  ...  [templat, english, scottish, and, british, mon...\n",
      "...        ...  ...                                                ...\n",
      "93687    93687  ...                            [twitter, watch, bitch]\n",
      "93688    93688  ...  [so, go, and, fuck, yourself, jame, watson, an...\n",
      "93689    93689  ...  [next, time, add, it, quicker, you, sorri, sac...\n",
      "93690    93690  ...  [milton, friedman, etc, realli, dont, know, wh...\n",
      "93691    93691  ...         [bind, tortur, kill, that, my, philosophi]\n",
      "\n",
      "[93692 rows x 6 columns]\n"
     ]
    }
   ],
   "source": [
    "from gensim import corpora\n",
    "# Function to return the dictionary either with padding word or without padding\n",
    "def m_dict(dataF, padding=True):\n",
    "    if padding:\n",
    "        print(\"Dictionary with padded token added\")\n",
    "        print(dataF)\n",
    "        r_dict = corpora.Dictionary([['pad']])\n",
    "        r_dict.add_documents(dataF['stemmed_tokens'])\n",
    "    else:\n",
    "        print(\"Dictionary without padding\")\n",
    "        print(dataF)\n",
    "        r_dict = corpora.Dictionary(dataF['stemmed_tokens'])\n",
    "    return r_dict\n",
    "# Make the dictionary without padding for the basic models\n",
    "r_dict = m_dict(dataF, padding=False)"
   ]
  },
  {
   "cell_type": "code",
   "execution_count": null,
   "metadata": {
    "id": "0rAKym_c_At9"
   },
   "outputs": [],
   "source": [
    "VOCAB_SIZE = len(r_dict)\n",
    "NUM_LABELS = 3\n",
    "\n",
    "# Function to make bow vector to be used as input to network\n",
    "def make_bow_vector(r_dict, sentence):\n",
    "    vec = torch.zeros(VOCAB_SIZE, dtype=torch.float64, device=device)\n",
    "    for word in sentence:\n",
    "        vec[r_dict.token2id[word]] += 1\n",
    "    return vec.view(1, -1).float()\n"
   ]
  },
  {
   "cell_type": "code",
   "execution_count": null,
   "metadata": {
    "id": "WU03SF4Y_At9"
   },
   "outputs": [],
   "source": [
    "# Function to get the output tensor\n",
    "def make_target(label):\n",
    "    if label == -1:\n",
    "        return torch.tensor([0], dtype=torch.long, device=device)\n",
    "    elif label == 0:\n",
    "        return torch.tensor([1], dtype=torch.long, device=device)\n",
    "    else:\n",
    "        return torch.tensor([2], dtype=torch.long, device=device)\n"
   ]
  },
  {
   "cell_type": "code",
   "execution_count": null,
   "metadata": {
    "id": "-LIz0RQL_At-"
   },
   "outputs": [],
   "source": [
    "VOCAB_SIZE = len(r_dict)\n",
    "\n",
    "input_dim = VOCAB_SIZE\n",
    "hidden_dim = 500\n",
    "output_dim = 3\n",
    "num_epochs = 100\n",
    "\n",
    "ff_nn_bow_model = FeedforwardNeuralNetModel(input_dim, hidden_dim, output_dim)\n",
    "ff_nn_bow_model.to(device)\n",
    "\n",
    "loss_function = nn.CrossEntropyLoss()\n",
    "optimizer = optim.SGD(ff_nn_bow_model.parameters(), lr=0.001)\n"
   ]
  },
  {
   "cell_type": "code",
   "execution_count": null,
   "metadata": {
    "id": "7Do8fIxoDIfR"
   },
   "outputs": [],
   "source": [
    "import csv "
   ]
  },
  {
   "cell_type": "code",
   "execution_count": null,
   "metadata": {
    "colab": {
     "base_uri": "https://localhost:8080/"
    },
    "id": "ZI6nedEy_At-",
    "outputId": "df07a2de-bcf4-43d1-a738-9f50a4048dc9"
   },
   "outputs": [
    {
     "name": "stdout",
     "output_type": "stream",
     "text": [
      "Epoch completed: 1\n",
      "Epoch completed: 2\n",
      "Epoch completed: 3\n",
      "Epoch completed: 4\n",
      "Epoch completed: 5\n",
      "Epoch completed: 6\n",
      "Epoch completed: 7\n",
      "Epoch completed: 8\n",
      "Epoch completed: 9\n",
      "Epoch completed: 10\n",
      "Epoch completed: 11\n",
      "Epoch completed: 12\n",
      "Epoch completed: 13\n",
      "Epoch completed: 14\n",
      "Epoch completed: 15\n",
      "Epoch completed: 16\n",
      "Epoch completed: 17\n",
      "Epoch completed: 18\n",
      "Epoch completed: 19\n",
      "Epoch completed: 20\n",
      "Epoch completed: 21\n",
      "Epoch completed: 22\n",
      "Epoch completed: 23\n",
      "Epoch completed: 24\n",
      "Epoch completed: 25\n",
      "Epoch completed: 26\n",
      "Epoch completed: 27\n",
      "Epoch completed: 28\n",
      "Epoch completed: 29\n",
      "Epoch completed: 30\n",
      "Epoch completed: 31\n",
      "Epoch completed: 32\n",
      "Epoch completed: 33\n",
      "Epoch completed: 34\n",
      "Epoch completed: 35\n",
      "Epoch completed: 36\n",
      "Epoch completed: 37\n",
      "Epoch completed: 38\n",
      "Epoch completed: 39\n",
      "Epoch completed: 40\n",
      "Epoch completed: 41\n",
      "Epoch completed: 42\n",
      "Epoch completed: 43\n",
      "Epoch completed: 44\n",
      "Epoch completed: 45\n",
      "Epoch completed: 46\n",
      "Epoch completed: 47\n",
      "Epoch completed: 48\n",
      "Epoch completed: 49\n",
      "Epoch completed: 50\n",
      "Epoch completed: 51\n",
      "Epoch completed: 52\n",
      "Epoch completed: 53\n",
      "Epoch completed: 54\n",
      "Epoch completed: 55\n",
      "Epoch completed: 56\n",
      "Epoch completed: 57\n",
      "Epoch completed: 58\n",
      "Epoch completed: 59\n",
      "Epoch completed: 60\n",
      "Epoch completed: 61\n",
      "Epoch completed: 62\n",
      "Epoch completed: 63\n",
      "Epoch completed: 64\n",
      "Epoch completed: 65\n",
      "Epoch completed: 66\n",
      "Epoch completed: 67\n",
      "Epoch completed: 68\n",
      "Epoch completed: 69\n",
      "Epoch completed: 70\n",
      "Epoch completed: 71\n",
      "Epoch completed: 72\n",
      "Epoch completed: 73\n",
      "Epoch completed: 74\n",
      "Epoch completed: 75\n",
      "Epoch completed: 76\n",
      "Epoch completed: 77\n",
      "Epoch completed: 78\n",
      "Epoch completed: 79\n",
      "Epoch completed: 80\n",
      "Epoch completed: 81\n",
      "Epoch completed: 82\n",
      "Epoch completed: 83\n",
      "Epoch completed: 84\n",
      "Epoch completed: 85\n",
      "Epoch completed: 86\n",
      "Epoch completed: 87\n",
      "Epoch completed: 88\n",
      "Epoch completed: 89\n",
      "Epoch completed: 90\n",
      "Epoch completed: 91\n",
      "Epoch completed: 92\n",
      "Epoch completed: 93\n",
      "Epoch completed: 94\n",
      "Epoch completed: 95\n",
      "Epoch completed: 96\n",
      "Epoch completed: 97\n",
      "Epoch completed: 98\n",
      "Epoch completed: 99\n",
      "Epoch completed: 100\n"
     ]
    }
   ],
   "source": [
    "# Open the file for writing loss\n",
    "ffnn_loss_file_name = 'final.csv'\n",
    "f = open(ffnn_loss_file_name,'w')\n",
    "f.write('iter, loss')\n",
    "f.write('\\n')\n",
    "losses = []\n",
    "iter = 0\n",
    "# Start training\n",
    "for epoch in range(num_epochs):\n",
    "    #print(\"1\")\n",
    "    if (epoch+1) % 1 == 0:\n",
    "  \n",
    "      #print(\"2\")\n",
    "      print(\"Epoch completed: \" + str(epoch+1))\n",
    "    train_loss = 0\n",
    "    for index, row in X_train.iterrows():\n",
    "      if index % 1000 == 0:\n",
    "        # Clearing the accumulated gradients\n",
    "        optimizer.zero_grad()\n",
    "        #print(index)\n",
    "        #print(row)\n",
    "        # Make the bag of words vector for stemmed tokens \n",
    "        bow_vec = make_bow_vector(r_dict, row['stemmed_tokens'])\n",
    "       \n",
    "        # Forward pass to get output\n",
    "        probs = ff_nn_bow_model(bow_vec)\n",
    "\n",
    "        # Get the target label\n",
    "        target = make_target(Y_train['sentiment'][index])\n",
    "\n",
    "        # Calculate Loss: softmax --> cross entropy loss\n",
    "        loss = loss_function(probs, target)\n",
    "        # Accumulating the loss over time\n",
    "        train_loss += loss.item()\n",
    "        #print(\"3\")\n",
    "        optimizer.zero_grad()\n",
    "        # Getting gradients w.r.t. parameters\n",
    "        loss.backward()\n",
    "\n",
    "        # Updating parameters\n",
    "        optimizer.step()\n",
    "       \n",
    "\n",
    "    with open('final.csv', 'w') as csvfile:\n",
    "      cwriter = csv.writer(csvfile, delimiter=' ', quotechar='|', quoting=csv.QUOTE_MINIMAL)\n",
    "      cwriter.writerow(str((epoch+1)) + \",\" + str(train_loss / len(X_train)))\n",
    "\n",
    "    \n",
    "\n",
    "    train_loss = 0\n",
    "\n",
    "    f.close()\n"
   ]
  },
  {
   "cell_type": "code",
   "execution_count": null,
   "metadata": {
    "colab": {
     "base_uri": "https://localhost:8080/"
    },
    "id": "wxOts-Bc_At-",
    "outputId": "0b97abe5-34d7-4ef2-8ff5-ad29326e1c62"
   },
   "outputs": [
    {
     "name": "stdout",
     "output_type": "stream",
     "text": [
      "              precision    recall  f1-score   support\n",
      "\n",
      "           1       0.77      0.72      0.75     14035\n",
      "           2       0.74      0.79      0.76     14073\n",
      "\n",
      "    accuracy                           0.76     28108\n",
      "   macro avg       0.76      0.76      0.76     28108\n",
      "weighted avg       0.76      0.76      0.76     28108\n",
      "\n",
      "0\n",
      "Index(['1 0 0 ', ' 0 . 0 0 0 9 2 3 3 8 2 6 8 4 0 9 0 3 9 4'], dtype='object')\n"
     ]
    }
   ],
   "source": [
    "from sklearn.metrics import classification_report\n",
    "bow_ff_nn_predictions = []\n",
    "original_lables_ff_bow = []\n",
    "with torch.no_grad():\n",
    "    for index, row in X_test.iterrows():\n",
    "        bow_vec = make_bow_vector(r_dict, row['stemmed_tokens'])\n",
    "        probs = ff_nn_bow_model(bow_vec)\n",
    "        bow_ff_nn_predictions.append(torch.argmax(probs, dim=1).cpu().numpy()[0])\n",
    "        original_lables_ff_bow.append(make_target(Y_test['sentiment'][index]).cpu().numpy()[0])\n",
    "print(classification_report(original_lables_ff_bow,bow_ff_nn_predictions))\n",
    "ffnn_loss_df = pd.read_csv(ffnn_loss_file_name)\n",
    "\n",
    "\n",
    "print(len(ffnn_loss_df))\n",
    "print(ffnn_loss_df.columns)\n",
    "#ffnn_plt_500_padding_100_epochs = ffnn_loss_df[' loss'].plot()\n",
    "#fig = ffnn_plt_500_padding_100_epochs.get_figure()\n",
    "#fig"
   ]
  }
 ],
 "metadata": {
  "colab": {
   "collapsed_sections": [],
   "name": "Copy of Copy of FFNN.ipynb",
   "provenance": []
  },
  "kernelspec": {
   "display_name": "Python 3",
   "language": "python",
   "name": "python3"
  },
  "language_info": {
   "codemirror_mode": {
    "name": "ipython",
    "version": 3
   },
   "file_extension": ".py",
   "mimetype": "text/x-python",
   "name": "python",
   "nbconvert_exporter": "python",
   "pygments_lexer": "ipython3",
   "version": "3.8.5"
  }
 },
 "nbformat": 4,
 "nbformat_minor": 1
}
